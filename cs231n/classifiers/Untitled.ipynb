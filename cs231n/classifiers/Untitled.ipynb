{
 "cells": [
  {
   "cell_type": "code",
   "execution_count": 3,
   "metadata": {},
   "outputs": [],
   "source": [
    "import numpy as np"
   ]
  },
  {
   "cell_type": "code",
   "execution_count": 53,
   "metadata": {},
   "outputs": [],
   "source": [
    "row = 10\n",
    "col = 20\n",
    "classes = 2\n",
    "observations = 50\n",
    "\n",
    "X = np.random.randint(observations, size = (row, col))\n",
    "W = np.random.randn(col, row) * 0.0001 \n",
    "y = np.random.choice(possibilities, col)\n",
    "dW = np.zeros(W.shape)\n",
    "loss = 0.0\n",
    "reg = 0.05"
   ]
  },
  {
   "cell_type": "code",
   "execution_count": 58,
   "metadata": {},
   "outputs": [
    {
     "name": "stdout",
     "output_type": "stream",
     "text": [
      "-2.1932523347927106\n",
      "-1099.793245044601\n",
      "4.399228197625682\n",
      "-408.7871648222335\n",
      "1.6616067273794375\n",
      "-455.34713189371996\n",
      "1.8214955678951996\n",
      "-485.17853243560916\n",
      "1.9553298389823355\n",
      "-404.0446633220517\n",
      "1.6318146778420743\n",
      "-329.368178343822\n",
      "2.661053764394186\n",
      "-2.426668071380406\n",
      "-536.5626610924849\n",
      "2.146284673379632\n",
      "-417.83425234772477\n",
      "3.3772473638691825\n"
     ]
    }
   ],
   "source": [
    "for i in range(row):\n",
    "    scores = X[i].dot(W)\n",
    "    correct_class_score = scores[y[i]]\n",
    "    for j in range(classes):\n",
    "      if j == y[i]:\n",
    "        continue\n",
    "      margin = scores[j] - correct_class_score + 1 # note delta = 1\n",
    "      if margin > 0:\n",
    "        loss += margin\n",
    "        dW[:, j] += X[i]\n",
    "        dW[:, y[i]] -= X[i]\n",
    "        print(np.sum(dW[:, j] + dW[:, y[i]]))\n",
    "        \n",
    "    loss /= num_train\n",
    "    dW /= num_train\n",
    "\n",
    "    loss += 0.5 * reg * np.sum(W * W)\n",
    "    dW += reg * W "
   ]
  },
  {
   "cell_type": "code",
   "execution_count": null,
   "metadata": {},
   "outputs": [],
   "source": []
  }
 ],
 "metadata": {
  "kernelspec": {
   "display_name": "Python 3",
   "language": "python",
   "name": "python3"
  },
  "language_info": {
   "codemirror_mode": {
    "name": "ipython",
    "version": 3
   },
   "file_extension": ".py",
   "mimetype": "text/x-python",
   "name": "python",
   "nbconvert_exporter": "python",
   "pygments_lexer": "ipython3",
   "version": "3.6.10"
  }
 },
 "nbformat": 4,
 "nbformat_minor": 4
}
